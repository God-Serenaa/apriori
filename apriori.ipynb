{
  "nbformat": 4,
  "nbformat_minor": 0,
  "metadata": {
    "colab": {
      "provenance": []
    },
    "kernelspec": {
      "name": "python3",
      "display_name": "Python 3"
    },
    "language_info": {
      "name": "python"
    }
  },
  "cells": [
    {
      "cell_type": "code",
      "execution_count": null,
      "metadata": {
        "colab": {
          "base_uri": "https://localhost:8080/"
        },
        "id": "F9mOdQ_7h-yf",
        "outputId": "637cf629-cdff-4312-b21c-5d94b40a57e2"
      },
      "outputs": [
        {
          "output_type": "stream",
          "name": "stdout",
          "text": [
            "Mounted at /content/drive/\n"
          ]
        }
      ],
      "source": [
        "from google.colab import drive\n",
        "drive.mount('/content/drive/')"
      ]
    },
    {
      "cell_type": "markdown",
      "source": [
        "#Main"
      ],
      "metadata": {
        "id": "VYPf8N8DImFj"
      }
    },
    {
      "cell_type": "code",
      "source": [
        "from time import time\n",
        "from itertools import combinations\n",
        "from math import ceil\n",
        "\n",
        "class Apriori:\n",
        "  def __init__(self, *args, **kwargs):\n",
        "    self.path = kwargs['path']\n",
        "    self.total = self.__get_total()\n",
        "    # self.__mine()\n",
        "\n",
        "\n",
        "  def __get_total(self):\n",
        "    with open(self.path, 'r') as f:\n",
        "      count = 0\n",
        "      for line in f:\n",
        "        count += 1\n",
        "    return count\n",
        "\n",
        "\n",
        "  def __generate_initial_candidate(self):\n",
        "    with open(self.path, 'r') as f:\n",
        "      temp = {}\n",
        "      for line in f:\n",
        "        transaction = set(line.split())\n",
        "        for item in transaction:\n",
        "          try:\n",
        "            temp[(item,)] += 1\n",
        "          except KeyError:\n",
        "            temp[(item,)] = 1\n",
        "      return {i:temp[i] for i in sorted(temp)}\n",
        "\n",
        "\n",
        "  def __find_frequent_patterns(self, candidates):\n",
        "    temp = {}\n",
        "    for i in candidates:\n",
        "      if candidates[i] >= self.threshold:\n",
        "        temp[i] = candidates[i]\n",
        "    if not temp:\n",
        "      return\n",
        "\n",
        "    self.L.append(temp)\n",
        "\n",
        "    self.__find_candidates(list(self.L[-1].keys()))\n",
        "\n",
        "\n",
        "  def __is_joinable(self, key1, key2):\n",
        "    # if len(key1) == 1:\n",
        "    #   return True\n",
        "    if key1[:-1] == key2[:-1]:\n",
        "      return True\n",
        "    else:\n",
        "      return False\n",
        "\n",
        "\n",
        "  def __check_downward(self, key):\n",
        "    all = combinations(key, len(key)-1)\n",
        "    for i in all:\n",
        "      if i not in self.L[-1]:\n",
        "        return False\n",
        "\n",
        "    return True\n",
        "\n",
        "\n",
        "  def __find_candidates(self, results):\n",
        "    temp = {}\n",
        "\n",
        "    for i in range(0, len(results)-1):\n",
        "      for j in range(i+1, len(results)):\n",
        "\n",
        "        if self.__is_joinable(results[i], results[j]):\n",
        "          joined = results[i] + (results[j][-1],)\n",
        "\n",
        "          if self.__check_downward(joined):\n",
        "            temp[joined] = self.frequency(joined)\n",
        "            # print(joined, end=\" : \")\n",
        "            # print(temp[joined])\n",
        "\n",
        "    if not temp:\n",
        "      return\n",
        "\n",
        "    self.C.append(temp)\n",
        "\n",
        "    self.__find_frequent_patterns(self.C[-1])\n",
        "\n",
        "\n",
        "  def mine(self, *args, **kwargs):\n",
        "    self.C = []\n",
        "    self.L = []\n",
        "    self.threshold = ceil(self.total*kwargs['threshold'])\n",
        "    print(f\"total transactions {self.total}\")\n",
        "    print(f\"threshold {self.threshold}\")\n",
        "\n",
        "    start = time()\n",
        "    self.C.append(self.__generate_initial_candidate())\n",
        "    self.__find_frequent_patterns(self.C[-1])\n",
        "    end = time()\n",
        "\n",
        "    print()\n",
        "    print(f\"completed in {end-start} secs\")\n",
        "\n",
        "\n",
        "  def frequency(self, pattern):\n",
        "    with open(self.path, 'r') as f:\n",
        "      count = 0\n",
        "\n",
        "      for line in f:\n",
        "        flag = True\n",
        "\n",
        "        transaction = set(line.split())\n",
        "        for i in pattern:\n",
        "          if i not in transaction:\n",
        "            flag = False\n",
        "            break\n",
        "\n",
        "        if flag == True:\n",
        "          count += 1\n",
        "      return count\n",
        "\n",
        "  def count_frequent_pattern(self):\n",
        "    print()\n",
        "    print(f\"lengthwise frequent pattern count for threshold {self.threshold}\")\n",
        "    for i in self.L:\n",
        "      # print(i)\n",
        "      print(f\"length {len(list(i.keys())[0])} : {len(i)}\")\n",
        "\n",
        "\n",
        "  def show_frequent_patterns(self):\n",
        "    for pattern_list in self.L:\n",
        "      for pattern in pattern_list:\n",
        "        print(pattern, end=' : ')\n",
        "        print(pattern_list[pattern])"
      ],
      "metadata": {
        "id": "qNzxXrhWiDZD"
      },
      "execution_count": null,
      "outputs": []
    },
    {
      "cell_type": "markdown",
      "source": [
        "##chess data"
      ],
      "metadata": {
        "id": "0e5mJ2xtoQWm"
      }
    },
    {
      "cell_type": "code",
      "source": [
        "chess = Apriori(path='/content/drive/MyDrive/cse477/chess.dat.txt')"
      ],
      "metadata": {
        "id": "3rujfw0ZobpS"
      },
      "execution_count": null,
      "outputs": []
    },
    {
      "cell_type": "code",
      "source": [
        "chess.mine(threshold=0.9)\n",
        "chess.count_frequent_pattern()"
      ],
      "metadata": {
        "colab": {
          "base_uri": "https://localhost:8080/"
        },
        "id": "HfL-O8cvVwy8",
        "outputId": "ca9d4180-047f-4acc-9207-4e3ba178ebec"
      },
      "execution_count": null,
      "outputs": [
        {
          "output_type": "stream",
          "name": "stdout",
          "text": [
            "total transactions 3196\n",
            "threshold 2877\n",
            "\n",
            "completed in 12.740272998809814 secs\n",
            "\n",
            "lengthwise frequent pattern count for threshold 2877\n",
            "length 1 : 13\n",
            "length 2 : 68\n",
            "length 3 : 167\n",
            "length 4 : 203\n",
            "length 5 : 128\n",
            "length 6 : 39\n",
            "length 7 : 4\n"
          ]
        }
      ]
    },
    {
      "cell_type": "code",
      "source": [
        "chess.mine(threshold=0.8)\n",
        "chess.count_frequent_pattern()"
      ],
      "metadata": {
        "colab": {
          "base_uri": "https://localhost:8080/"
        },
        "id": "XLCho36Tn9UL",
        "outputId": "560a25d3-cd73-4cb5-db2b-79502a1ab82f"
      },
      "execution_count": null,
      "outputs": [
        {
          "output_type": "stream",
          "name": "stdout",
          "text": [
            "total transactions 3196\n",
            "threshold 2557\n",
            "\n",
            "completed in 166.63649249076843 secs\n",
            "\n",
            "lengthwise frequent pattern count for threshold 2557\n",
            "length 1 : 19\n",
            "length 2 : 141\n",
            "length 3 : 566\n",
            "length 4 : 1383\n",
            "length 5 : 2130\n",
            "length 6 : 2104\n",
            "length 7 : 1314\n",
            "length 8 : 481\n",
            "length 9 : 85\n",
            "length 10 : 4\n"
          ]
        }
      ]
    },
    {
      "cell_type": "code",
      "source": [
        "chess.mine(threshold=0.7)\n",
        "chess.count_frequent_pattern()"
      ],
      "metadata": {
        "colab": {
          "base_uri": "https://localhost:8080/"
        },
        "id": "im2R3hccn-hS",
        "outputId": "1ea5feaa-0a01-48b6-8481-6da117f7a119"
      },
      "execution_count": null,
      "outputs": [
        {
          "output_type": "stream",
          "name": "stdout",
          "text": [
            "total transactions 3196\n",
            "threshold 2238\n",
            "\n",
            "completed in 1019.1805129051208 secs\n",
            "\n",
            "lengthwise frequent pattern count for threshold 2238\n",
            "length 1 : 24\n",
            "length 2 : 238\n",
            "length 3 : 1237\n",
            "length 4 : 3857\n",
            "length 5 : 7891\n",
            "length 6 : 11125\n",
            "length 7 : 11113\n",
            "length 8 : 7916\n",
            "length 9 : 3895\n",
            "length 10 : 1216\n",
            "length 11 : 204\n",
            "length 12 : 14\n",
            "length 13 : 1\n"
          ]
        }
      ]
    },
    {
      "cell_type": "code",
      "source": [
        "chess.mine(threshold=0.6)\n",
        "chess.count_frequent_pattern()"
      ],
      "metadata": {
        "colab": {
          "base_uri": "https://localhost:8080/"
        },
        "id": "x2jD5RIpoAlb",
        "outputId": "9e229507-cea4-41cc-ea75-30aec79fbf20"
      },
      "execution_count": null,
      "outputs": [
        {
          "output_type": "stream",
          "name": "stdout",
          "text": [
            "total transactions 3196\n",
            "threshold 1918\n",
            "\n",
            "completed in 6892.888777971268 secs\n",
            "\n",
            "lengthwise frequent pattern count for threshold 1918\n",
            "length 1 : 34\n",
            "length 2 : 389\n",
            "length 3 : 2325\n",
            "length 4 : 8831\n",
            "length 5 : 23155\n",
            "length 6 : 43106\n",
            "length 7 : 57479\n",
            "length 8 : 55062\n",
            "length 9 : 37876\n",
            "length 10 : 18607\n",
            "length 11 : 6419\n",
            "length 12 : 1466\n",
            "length 13 : 187\n",
            "length 14 : 8\n"
          ]
        }
      ]
    },
    {
      "cell_type": "markdown",
      "source": [
        "###plot"
      ],
      "metadata": {
        "id": "dON-lo-jp0q1"
      }
    },
    {
      "cell_type": "code",
      "source": [
        "import matplotlib.pyplot as plt\n",
        "\n",
        "# Threshold percentages\n",
        "thresholds = [90, 80, 70, 60]\n",
        "\n",
        "# Data for the first set of values\n",
        "data_set1 = [12.740272998809814, 166.63649249076843, 1019.1805129051208, 6892.888777971268]\n",
        "\n",
        "# Data for the second set of values\n",
        "data_set2 = [1.6963958740234375, 22.06865382194519, 112.72999906539917, 507.0605103969574]\n",
        "\n",
        "# Create the plot\n",
        "plt.figure(figsize=(10, 6))\n",
        "\n",
        "# Plot the first set of data\n",
        "plt.plot(thresholds, data_set1, marker='o', linestyle='-', color='b', label='Apriori')\n",
        "\n",
        "# Plot the second set of data on the same graph\n",
        "plt.plot(thresholds, data_set2, marker='s', linestyle='-', color='r', label='FpGrowth')\n",
        "\n",
        "plt.xlabel(\"Threshold\")\n",
        "plt.ylabel(\"Runtime\")\n",
        "plt.title(\"Runtime Comparison between Apriori and FpGrowth (Chess Dataset)\")\n",
        "plt.grid(True)\n",
        "plt.legend()\n",
        "\n",
        "plt.show()\n"
      ],
      "metadata": {
        "colab": {
          "base_uri": "https://localhost:8080/",
          "height": 564
        },
        "id": "PT2RGDySqQkf",
        "outputId": "18ce2a2c-8790-4ad0-994a-44ffe403af02"
      },
      "execution_count": null,
      "outputs": [
        {
          "output_type": "display_data",
          "data": {
            "text/plain": [
              "<Figure size 1000x600 with 1 Axes>"
            ],
            "image/png": "[encoded data removed]"
          },
          "metadata": {}
        }
      ]
    },
    {
      "cell_type": "markdown",
      "source": [
        "##mushroom"
      ],
      "metadata": {
        "id": "n4BdOSksoT90"
      }
    },
    {
      "cell_type": "code",
      "source": [
        "mushroom = Apriori(path='/content/drive/MyDrive/cse477/mushroom.dat')"
      ],
      "metadata": {
        "id": "DFNmPxekoWEK"
      },
      "execution_count": null,
      "outputs": []
    },
    {
      "cell_type": "code",
      "source": [
        "mushroom.mine(threshold=0.9)\n",
        "mushroom.count_frequent_pattern()"
      ],
      "metadata": {
        "colab": {
          "base_uri": "https://localhost:8080/"
        },
        "outputId": "a3fbfee1-457f-4dd7-9378-38fa3a6bae19",
        "id": "gq_yH7OTp5Vr"
      },
      "execution_count": null,
      "outputs": [
        {
          "output_type": "stream",
          "name": "stdout",
          "text": [
            "total transactions 8124\n",
            "threshold 7312\n",
            "\n",
            "completed in 0.2526240348815918 secs\n",
            "\n",
            "lengthwise frequent pattern count for threshold 7312\n",
            "length 1 : 4\n",
            "length 2 : 4\n",
            "length 3 : 1\n"
          ]
        }
      ]
    },
    {
      "cell_type": "code",
      "source": [
        "mushroom.mine(threshold=0.8)\n",
        "mushroom.count_frequent_pattern()"
      ],
      "metadata": {
        "colab": {
          "base_uri": "https://localhost:8080/"
        },
        "outputId": "a6525d9f-b7bf-4c15-9bc7-c2d6cca391c5",
        "id": "Ro6YVcwAp5Vs"
      },
      "execution_count": null,
      "outputs": [
        {
          "output_type": "stream",
          "name": "stdout",
          "text": [
            "total transactions 8124\n",
            "threshold 6500\n",
            "\n",
            "completed in 0.5689189434051514 secs\n",
            "\n",
            "lengthwise frequent pattern count for threshold 6500\n",
            "length 1 : 5\n",
            "length 2 : 9\n",
            "length 3 : 7\n",
            "length 4 : 2\n"
          ]
        }
      ]
    },
    {
      "cell_type": "code",
      "source": [
        "mushroom.mine(threshold=0.7)\n",
        "mushroom.count_frequent_pattern()"
      ],
      "metadata": {
        "colab": {
          "base_uri": "https://localhost:8080/"
        },
        "outputId": "9334347b-f1cf-41f2-bc80-c17a0e3b39ed",
        "id": "pbt_Nxsjp5Vs"
      },
      "execution_count": null,
      "outputs": [
        {
          "output_type": "stream",
          "name": "stdout",
          "text": [
            "total transactions 8124\n",
            "threshold 5687\n",
            "\n",
            "completed in 0.7661359310150146 secs\n",
            "\n",
            "lengthwise frequent pattern count for threshold 5687\n",
            "length 1 : 5\n",
            "length 2 : 10\n",
            "length 3 : 10\n",
            "length 4 : 5\n",
            "length 5 : 1\n"
          ]
        }
      ]
    },
    {
      "cell_type": "code",
      "source": [
        "mushroom.mine(threshold=0.6)\n",
        "mushroom.count_frequent_pattern()"
      ],
      "metadata": {
        "colab": {
          "base_uri": "https://localhost:8080/"
        },
        "id": "8Z6TTPWDp5Vs",
        "outputId": "c2c88c75-4382-4c3f-81a8-4a4406de3de6"
      },
      "execution_count": null,
      "outputs": [
        {
          "output_type": "stream",
          "name": "stdout",
          "text": [
            "total transactions 8124\n",
            "threshold 4875\n",
            "\n",
            "completed in 1.628702163696289 secs\n",
            "\n",
            "lengthwise frequent pattern count for threshold 4875\n",
            "length 1 : 8\n",
            "length 2 : 18\n",
            "length 3 : 17\n",
            "length 4 : 7\n",
            "length 5 : 1\n"
          ]
        }
      ]
    },
    {
      "cell_type": "markdown",
      "source": [
        "###plot"
      ],
      "metadata": {
        "id": "Nk9mJXO8r4Q-"
      }
    },
    {
      "cell_type": "code",
      "source": [
        "import matplotlib.pyplot as plt\n",
        "\n",
        "# Threshold percentages\n",
        "thresholds = [90, 80, 70, 60]\n",
        "\n",
        "# Data for the first set of values\n",
        "data_set1 = [0.2526240348815918, 0.5689189434051514, 0.7661359310150146, 1.628702163696289]\n",
        "\n",
        "# Data for the second set of values\n",
        "data_set2 = [0.05096316337585449, 0.13865876197814941, 0.16063976287841797, 0.29703569412231445]\n",
        "\n",
        "# Create the plot\n",
        "plt.figure(figsize=(10, 6))\n",
        "\n",
        "# Plot the first set of data\n",
        "plt.plot(thresholds, data_set1, marker='o', linestyle='-', color='b', label='Apriori')\n",
        "\n",
        "# Plot the second set of data on the same graph\n",
        "plt.plot(thresholds, data_set2, marker='s', linestyle='-', color='r', label='FpGrowth')\n",
        "\n",
        "plt.xlabel(\"Threshold\")\n",
        "plt.ylabel(\"Runtime\")\n",
        "plt.title(\"Runtime Comparison between Apriori and FpGrowth (Mushroom Dataset)\")\n",
        "plt.grid(True)\n",
        "plt.legend()\n",
        "\n",
        "plt.show()\n"
      ],
      "metadata": {
        "colab": {
          "base_uri": "https://localhost:8080/",
          "height": 564
        },
        "id": "-4KCS-0Qrmt-",
        "outputId": "11e93eb4-e313-4c1e-d8bf-4f88d871a50f"
      },
      "execution_count": null,
      "outputs": [
        {
          "output_type": "display_data",
          "data": {
            "text/plain": [
              "<Figure size 1000x600 with 1 Axes>"
            ],
            "image/png": "[encoded data removed]"
          },
          "metadata": {}
        }
      ]
    }
  ]
}